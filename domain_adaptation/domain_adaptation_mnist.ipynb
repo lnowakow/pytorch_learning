{
 "cells": [
  {
   "cell_type": "code",
   "execution_count": 268,
   "id": "435499c1",
   "metadata": {},
   "outputs": [
    {
     "data": {
      "text/plain": [
       "device(type='cuda')"
      ]
     },
     "execution_count": 268,
     "metadata": {},
     "output_type": "execute_result"
    }
   ],
   "source": [
    "import os\n",
    "import math\n",
    "import torch\n",
    "import torch.nn as nn\n",
    "from torch.autograd import Variable\n",
    "import torchvision.datasets as dset\n",
    "import torchvision.transforms as transforms\n",
    "import torch.nn.functional as F\n",
    "import torch.optim as optim\n",
    "\n",
    "\n",
    "import numpy as np\n",
    "import matplotlib.pyplot as plt\n",
    "\n",
    "use_cuda = torch.cuda.is_available()\n",
    "\n",
    "root = './data'\n",
    "if not os.path.exists(root):\n",
    "    os.mkdir(root)\n",
    "    \n",
    "device = torch.device('cuda' if torch.cuda.is_available() else 'cpu')\n",
    "device"
   ]
  },
  {
   "cell_type": "code",
   "execution_count": 276,
   "id": "bb2314b1",
   "metadata": {},
   "outputs": [],
   "source": [
    "from data import MNISTMDataset\n",
    "\n",
    "# Prepare Data\n",
    "image_size = 28\n",
    "batch_size = 4\n",
    "\n",
    "tf_source = transforms.Compose([\n",
    "    transforms.Resize(image_size), transforms.ToTensor(), transforms.Normalize(mean=(0.1307,), std=(0.3081,))\n",
    "])\n",
    "tf_target = transforms.Compose([\n",
    "    transforms.Resize(image_size), transforms.ToTensor(), transforms.Normalize(mean=(0.5,0.5,0.5), std=(0.5,0.5,0.5))\n",
    "])\n",
    "\n",
    "# Original MNIST dataset\n",
    "ds_source = dset.MNIST(root=root, train=True, transform=tf_source, download=True)\n",
    "dl_source = torch.utils.data.DataLoader(ds_source, batch_size)\n",
    "# Custom MNISTM dataset\n",
    "ds_target = MNISTMDataset(os.path.join(root, 'mnist_m', 'mnist_m_train'),\n",
    "                         os.path.join(root, 'mnist_m', 'mnist_m_train_labels.txt'),\n",
    "                         transform=tf_target)\n",
    "dl_target = torch.utils.data.DataLoader(ds_target, batch_size)\n"
   ]
  },
  {
   "cell_type": "code",
   "execution_count": 123,
   "id": "b58cde49",
   "metadata": {},
   "outputs": [
    {
     "data": {
      "text/plain": [
       "(<Figure size 576x576 with 3 Axes>,\n",
       " array([<matplotlib.axes._subplots.AxesSubplot object at 0x7f4e9eae8e80>,\n",
       "        <matplotlib.axes._subplots.AxesSubplot object at 0x7f4e9eb1a700>,\n",
       "        <matplotlib.axes._subplots.AxesSubplot object at 0x7f4e9eaf6ee0>],\n",
       "       dtype=object))"
      ]
     },
     "execution_count": 123,
     "metadata": {},
     "output_type": "execute_result"
    },
    {
     "data": {
      "image/png": "[encoded data removed]",
      "text/plain": [
       "<Figure size 576x576 with 3 Axes>"
      ]
     },
     "metadata": {},
     "output_type": "display_data"
    },
    {
     "data": {
      "image/png": "[encoded data removed]",
      "text/plain": [
       "<Figure size 576x576 with 3 Axes>"
      ]
     },
     "metadata": {},
     "output_type": "display_data"
    }
   ],
   "source": [
    "from plot_utils import dataset_first_n\n",
    "\n",
    "# plot first n images\n",
    "def plot_first_n(ds, n=3, cmap=None):\n",
    "    \n",
    "    max_cols = 5\n",
    "    num_rows = math.ceil(n/max_cols)\n",
    "    num_cols = n  if n < max_cols else max_cols\n",
    "    print(f'subplot will have dimensions {num_rows}, {num_cols}')\n",
    "    \n",
    "    mnist_iter = iter(ds)\n",
    "    i = 0\n",
    "    f, axarr = plt.subplots(num_rows, num_cols)\n",
    "    for mnist_data, _ in mnist_iter:\n",
    "        \n",
    "        ch, h, w = mnist_data.shape\n",
    "        if num_rows > 1:\n",
    "            axarr[math.floor(i/num_cols),i%num_cols].imshow(mnist_data.reshape(h,w,ch).squeeze(), cmap)\n",
    "        else:\n",
    "            axarr[i].imshow(mnist_data.reshape(h,w,ch).squeeze(), cmap)\n",
    "        i += 1\n",
    "        if i == n:\n",
    "            break\n",
    "    np.vectorize(lambda ax:ax.axis('off'))(axarr)\n",
    "        \n",
    "        \n",
    "    \n",
    "#plot_first_n(ds_source, n=3, cmap='gray')\n",
    "#plot_first_n(ds_target, n=3)\n",
    "\n",
    "dataset_first_n(ds_source,3,cmap='gray')\n",
    "dataset_first_n(ds_target,3)\n"
   ]
  },
  {
   "cell_type": "code",
   "execution_count": 176,
   "id": "b654b80e",
   "metadata": {},
   "outputs": [],
   "source": [
    "# gradient reversal\n",
    "from torch.autograd import Function\n",
    "\n",
    "# Autograd Function objects are what record operation history on tensors\n",
    "# and define formulas for the forwawrd and backprop.\n",
    "\n",
    "class GradientReversalFn(Function):\n",
    "    @staticmethod\n",
    "    def forward(ctx, x, alpha):\n",
    "        # Store context for backprop\n",
    "        ctx.alpha = alpha\n",
    "        \n",
    "        # Forward pass is a no-op\n",
    "        return x.view_as(x)\n",
    "    \n",
    "    @staticmethod\n",
    "    def backward(ctx, grad_output):\n",
    "        # Backward pass is just to -alpha the gradient\n",
    "        output = grad_output.neg() * ctx.alpha\n",
    "        \n",
    "        # Must return same number as inputs to forward()\n",
    "        return output, None"
   ]
  },
  {
   "cell_type": "code",
   "execution_count": 179,
   "id": "b9b56082",
   "metadata": {},
   "outputs": [],
   "source": [
    "# Adverserial Network\n",
    "class DACNN(nn.Module):\n",
    "    def __init__(self):\n",
    "        super().__init__()\n",
    "        self.feature_extractor = nn.Sequential(\n",
    "            nn.Conv2d(3,64, kernel_size=5),\n",
    "            nn.BatchNorm2d(64), nn.MaxPool2d(2),\n",
    "            nn.ReLU(True),\n",
    "            nn.Conv2d(64,50, kernel_size=5),\n",
    "            nn.BatchNorm2d(50), nn.Dropout(), nn.MaxPool2d(2),\n",
    "            nn.ReLU(True),\n",
    "        )\n",
    "        self.class_classifier = nn.Sequential(\n",
    "            nn.Linear(50*4*4,100), nn.BatchNorm1d(100), nn.Dropout(),\n",
    "            nn.ReLU(True),\n",
    "            nn.Linear(100,100), nn.BatchNorm1d(100), nn.Dropout(),\n",
    "            nn.ReLU(True),\n",
    "            nn.Linear(100,10),\n",
    "            nn.LogSoftmax(dim=1),\n",
    "        )\n",
    "        self.domain_classifier = nn.Sequential(\n",
    "            nn.Linear(50*4*4, 100), nn.BatchNorm1d(100),\n",
    "            nn.ReLU(True),\n",
    "            nn.Linear(100,2),\n",
    "            nn.LogSoftmax(dim=1),\n",
    "        )\n",
    "        \n",
    "    def forward(self, x, grl_lambda=1.0):\n",
    "        # Handle single-channel input by expanding (repeating) the singleton dimension\n",
    "        x = x.expand(x.data.shape[0], 3, image_size, image_size)\n",
    "        \n",
    "        features = self.feature_extractor(x)\n",
    "        features = features.view(-1, 50 * 4 * 4)\n",
    "        reverse_features = GradientReversalFn.apply(features, grl_lambda)\n",
    "        \n",
    "        class_pred = self.class_classifier(features)\n",
    "        domain_pred = self.domain_classifier(reverse_features)\n",
    "        return class_pred, domain_pred\n",
    "             "
   ]
  },
  {
   "cell_type": "code",
   "execution_count": 279,
   "id": "67b4b336",
   "metadata": {
    "scrolled": true
   },
   "outputs": [
    {
     "name": "stdout",
     "output_type": "stream",
     "text": [
      "source domain:  torch.Size([4, 1, 28, 28]) torch.Size([4])\n",
      "target domain:  torch.Size([4, 3, 28, 28]) torch.Size([4])\n"
     ]
    },
    {
     "data": {
      "text/plain": [
       "(tensor([[-2.2502, -1.6049, -2.9520, -2.7169, -2.2033, -2.2569, -2.3603, -2.7162,\n",
       "          -1.9947, -2.7534],\n",
       "         [-2.7625, -1.5107, -3.2489, -2.2951, -1.5996, -2.2555, -2.6103, -2.4613,\n",
       "          -2.7406, -3.0710],\n",
       "         [-2.3938, -2.3861, -1.9802, -2.2778, -2.9392, -1.8185, -2.6484, -2.0961,\n",
       "          -2.3312, -2.6573],\n",
       "         [-2.2693, -1.4606, -3.1123, -3.2380, -2.3895, -2.1132, -2.3199, -3.1039,\n",
       "          -1.8089, -2.7927]], device='cuda:0', grad_fn=<LogSoftmaxBackward0>),\n",
       " tensor([[-0.3727, -1.1676],\n",
       "         [-0.2984, -1.3547],\n",
       "         [-0.7807, -0.6126],\n",
       "         [-0.6237, -0.7678]], device='cuda:0', grad_fn=<LogSoftmaxBackward0>))"
      ]
     },
     "execution_count": 279,
     "metadata": {},
     "output_type": "execute_result"
    }
   ],
   "source": [
    "model = DACNN().cuda()\n",
    "x0_s, y0_s = next(iter(dl_source))\n",
    "x0_t, y0_t = next(iter(dl_target))\n",
    "\n",
    "print('source domain: ', x0_s.shape, y0_s.shape)\n",
    "print('target domain: ', x0_t.shape, y0_t.shape)\n",
    "x0_s = x0_s.cuda()\n",
    "x0_t = x0_t.cuda()\n",
    "model(x0_s)\n",
    "model(x0_t)\n"
   ]
  },
  {
   "cell_type": "markdown",
   "id": "7b059944",
   "metadata": {},
   "source": [
    "**Training**"
   ]
  },
  {
   "cell_type": "code",
   "execution_count": 288,
   "id": "eaee1290",
   "metadata": {},
   "outputs": [],
   "source": [
    "lr = 1e-3\n",
    "n_epochs = 10\n",
    "\n",
    "# Setup optimizer as usual\n",
    "model = DACNN().cuda()\n",
    "optimizer = optim.Adam(model.parameters(), lr)\n",
    "\n",
    "# Two losses functions this time\n",
    "loss_fn_class = torch.nn.NLLLoss()\n",
    "loss_fn_domain = torch.nn.NLLLoss()"
   ]
  },
  {
   "cell_type": "code",
   "execution_count": 282,
   "id": "0723a7e8",
   "metadata": {},
   "outputs": [
    {
     "name": "stdout",
     "output_type": "stream",
     "text": [
      "57\n"
     ]
    },
    {
     "data": {
      "text/plain": [
       "\"\\ndl_iter = iter(dl_source)\\nfor i in range(max_batches+1):\\n    element, _ = next(dl_iter)\\n    print(f'element #{i} has shape: {element.shape}')\\n\""
      ]
     },
     "execution_count": 282,
     "metadata": {},
     "output_type": "execute_result"
    }
   ],
   "source": [
    "batch_size = 1024\n",
    "dl_source = torch.utils.data.DataLoader(ds_source, batch_size)\n",
    "dl_target = torch.utils.data.DataLoader(ds_target, batch_size)\n",
    "\n",
    "# We'll train the same number of batches from both datasets\n",
    "max_batches = min(len(dl_source), len(dl_target)) -1\n",
    "print(max_batches)\n",
    "'''\n",
    "dl_iter = iter(dl_source)\n",
    "for i in range(max_batches+1):\n",
    "    element, _ = next(dl_iter)\n",
    "    print(f'element #{i} has shape: {element.shape}')\n",
    "'''"
   ]
  },
  {
   "cell_type": "code",
   "execution_count": 290,
   "id": "94cbebff",
   "metadata": {
    "collapsed": true
   },
   "outputs": [
    {
     "name": "stdout",
     "output_type": "stream",
     "text": [
      "Epoch 0001 / 0010\n",
      "=================\n",
      "[1/57] class_loss: 2.4744 s_domain_loss: 0.6903 t_domain_loss: 0.7679 grl_lambda: 0.000 \n",
      "[11/57] class_loss: 1.3743 s_domain_loss: 0.6323 t_domain_loss: 0.7157 grl_lambda: 0.044 \n",
      "[21/57] class_loss: 1.0344 s_domain_loss: 0.6136 t_domain_loss: 0.6793 grl_lambda: 0.087 \n",
      "[31/57] class_loss: 0.7911 s_domain_loss: 0.5841 t_domain_loss: 0.6442 grl_lambda: 0.131 \n",
      "[41/57] class_loss: 0.5824 s_domain_loss: 0.5685 t_domain_loss: 0.6183 grl_lambda: 0.174 \n",
      "[51/57] class_loss: 0.4281 s_domain_loss: 0.5552 t_domain_loss: 0.6061 grl_lambda: 0.216 \n",
      "Epoch 0002 / 0010\n",
      "=================\n",
      "[1/57] class_loss: 0.3807 s_domain_loss: 0.5535 t_domain_loss: 0.5773 grl_lambda: 0.245 \n",
      "[11/57] class_loss: 0.3067 s_domain_loss: 0.5311 t_domain_loss: 0.5464 grl_lambda: 0.286 \n",
      "[21/57] class_loss: 0.2840 s_domain_loss: 0.5176 t_domain_loss: 0.5432 grl_lambda: 0.325 \n",
      "[31/57] class_loss: 0.2906 s_domain_loss: 0.5698 t_domain_loss: 0.5721 grl_lambda: 0.364 \n",
      "[41/57] class_loss: 0.3186 s_domain_loss: 0.5610 t_domain_loss: 0.6021 grl_lambda: 0.402 \n",
      "[51/57] class_loss: 0.2661 s_domain_loss: 0.5616 t_domain_loss: 0.5867 grl_lambda: 0.438 \n",
      "Epoch 0003 / 0010\n",
      "=================\n",
      "[1/57] class_loss: 0.2407 s_domain_loss: 0.5543 t_domain_loss: 0.5569 grl_lambda: 0.462 \n",
      "[11/57] class_loss: 0.2281 s_domain_loss: 0.5453 t_domain_loss: 0.5427 grl_lambda: 0.496 \n",
      "[21/57] class_loss: 0.2261 s_domain_loss: 0.5406 t_domain_loss: 0.5570 grl_lambda: 0.528 \n",
      "[31/57] class_loss: 0.2336 s_domain_loss: 0.5090 t_domain_loss: 0.5383 grl_lambda: 0.559 \n",
      "[41/57] class_loss: 0.2357 s_domain_loss: 0.5358 t_domain_loss: 0.5062 grl_lambda: 0.589 \n",
      "[51/57] class_loss: 0.2000 s_domain_loss: 0.5616 t_domain_loss: 0.5805 grl_lambda: 0.616 \n",
      "Epoch 0004 / 0010\n",
      "=================\n",
      "[1/57] class_loss: 0.2154 s_domain_loss: 0.6485 t_domain_loss: 0.5652 grl_lambda: 0.635 \n",
      "[11/57] class_loss: 0.2157 s_domain_loss: 0.5586 t_domain_loss: 0.6208 grl_lambda: 0.661 \n",
      "[21/57] class_loss: 0.2240 s_domain_loss: 0.6382 t_domain_loss: 0.6088 grl_lambda: 0.685 \n",
      "[31/57] class_loss: 0.2641 s_domain_loss: 0.6162 t_domain_loss: 0.6502 grl_lambda: 0.707 \n",
      "[41/57] class_loss: 0.2325 s_domain_loss: 0.6071 t_domain_loss: 0.5534 grl_lambda: 0.728 \n",
      "[51/57] class_loss: 0.2026 s_domain_loss: 0.5939 t_domain_loss: 0.6035 grl_lambda: 0.748 \n",
      "Epoch 0005 / 0010\n",
      "=================\n",
      "[1/57] class_loss: 0.2243 s_domain_loss: 0.6746 t_domain_loss: 0.6101 grl_lambda: 0.762 \n",
      "[11/57] class_loss: 0.1837 s_domain_loss: 0.6412 t_domain_loss: 0.6037 grl_lambda: 0.779 \n",
      "[21/57] class_loss: 0.2369 s_domain_loss: 0.5838 t_domain_loss: 0.6138 grl_lambda: 0.796 \n",
      "[31/57] class_loss: 0.2262 s_domain_loss: 0.5887 t_domain_loss: 0.5764 grl_lambda: 0.812 \n",
      "[41/57] class_loss: 0.2660 s_domain_loss: 0.5908 t_domain_loss: 0.5992 grl_lambda: 0.826 \n",
      "[51/57] class_loss: 0.2087 s_domain_loss: 0.5709 t_domain_loss: 0.5847 grl_lambda: 0.839 \n",
      "Epoch 0006 / 0010\n",
      "=================\n",
      "[1/57] class_loss: 0.1991 s_domain_loss: 0.5767 t_domain_loss: 0.5536 grl_lambda: 0.848 \n",
      "[11/57] class_loss: 0.2168 s_domain_loss: 0.5967 t_domain_loss: 0.5802 grl_lambda: 0.860 \n",
      "[21/57] class_loss: 0.1861 s_domain_loss: 0.6039 t_domain_loss: 0.6084 grl_lambda: 0.871 \n",
      "[31/57] class_loss: 0.2897 s_domain_loss: 0.5603 t_domain_loss: 0.6266 grl_lambda: 0.881 \n",
      "[41/57] class_loss: 0.2528 s_domain_loss: 0.5991 t_domain_loss: 0.5417 grl_lambda: 0.891 \n",
      "[51/57] class_loss: 0.1625 s_domain_loss: 0.5197 t_domain_loss: 0.5749 grl_lambda: 0.899 \n",
      "Epoch 0007 / 0010\n",
      "=================\n",
      "[1/57] class_loss: 0.2287 s_domain_loss: 0.5695 t_domain_loss: 0.5005 grl_lambda: 0.905 \n",
      "[11/57] class_loss: 0.2126 s_domain_loss: 0.5796 t_domain_loss: 0.5772 grl_lambda: 0.913 \n",
      "[21/57] class_loss: 0.2430 s_domain_loss: 0.5741 t_domain_loss: 0.5221 grl_lambda: 0.920 \n",
      "[31/57] class_loss: 0.2161 s_domain_loss: 0.5801 t_domain_loss: 0.5858 grl_lambda: 0.926 \n",
      "[41/57] class_loss: 0.2606 s_domain_loss: 0.5895 t_domain_loss: 0.5375 grl_lambda: 0.932 \n",
      "[51/57] class_loss: 0.2382 s_domain_loss: 0.5821 t_domain_loss: 0.5911 grl_lambda: 0.938 \n",
      "Epoch 0008 / 0010\n",
      "=================\n",
      "[1/57] class_loss: 0.1991 s_domain_loss: 0.5434 t_domain_loss: 0.5626 grl_lambda: 0.941 \n",
      "[11/57] class_loss: 0.2048 s_domain_loss: 0.6236 t_domain_loss: 0.6021 grl_lambda: 0.946 \n",
      "[21/57] class_loss: 0.2181 s_domain_loss: 0.5961 t_domain_loss: 0.5573 grl_lambda: 0.951 \n",
      "[31/57] class_loss: 0.3113 s_domain_loss: 0.5850 t_domain_loss: 0.6458 grl_lambda: 0.955 \n",
      "[41/57] class_loss: 0.3067 s_domain_loss: 0.7249 t_domain_loss: 0.5605 grl_lambda: 0.958 \n",
      "[51/57] class_loss: 0.2316 s_domain_loss: 0.6215 t_domain_loss: 0.6769 grl_lambda: 0.962 \n",
      "Epoch 0009 / 0010\n",
      "=================\n",
      "[1/57] class_loss: 0.2547 s_domain_loss: 0.7100 t_domain_loss: 0.6111 grl_lambda: 0.964 \n",
      "[11/57] class_loss: 0.1888 s_domain_loss: 0.6160 t_domain_loss: 0.6747 grl_lambda: 0.967 \n",
      "[21/57] class_loss: 0.2134 s_domain_loss: 0.6152 t_domain_loss: 0.6069 grl_lambda: 0.970 \n",
      "[31/57] class_loss: 0.2284 s_domain_loss: 0.5969 t_domain_loss: 0.6079 grl_lambda: 0.972 \n",
      "[41/57] class_loss: 0.2540 s_domain_loss: 0.6273 t_domain_loss: 0.5550 grl_lambda: 0.975 \n",
      "[51/57] class_loss: 0.1903 s_domain_loss: 0.5643 t_domain_loss: 0.5704 grl_lambda: 0.977 \n",
      "Epoch 0010 / 0010\n",
      "=================\n",
      "[1/57] class_loss: 0.2132 s_domain_loss: 0.5796 t_domain_loss: 0.5531 grl_lambda: 0.978 \n",
      "[11/57] class_loss: 0.1983 s_domain_loss: 0.6188 t_domain_loss: 0.6319 grl_lambda: 0.980 \n",
      "[21/57] class_loss: 0.2137 s_domain_loss: 0.5828 t_domain_loss: 0.5700 grl_lambda: 0.982 \n",
      "[31/57] class_loss: 0.2851 s_domain_loss: 0.5268 t_domain_loss: 0.5695 grl_lambda: 0.983 \n",
      "[41/57] class_loss: 0.2957 s_domain_loss: 0.6274 t_domain_loss: 0.5858 grl_lambda: 0.984 \n",
      "[51/57] class_loss: 0.2097 s_domain_loss: 0.5360 t_domain_loss: 0.5981 grl_lambda: 0.986 \n"
     ]
    }
   ],
   "source": [
    "model.train()\n",
    "for epoch_idx in range(n_epochs):\n",
    "    print(f'Epoch {epoch_idx+1:04d} / {n_epochs:04d}', end='\\n=================\\n')\n",
    "    dl_source_iter = iter(dl_source)\n",
    "    dl_target_iter = iter(dl_target)\n",
    "    \n",
    "    for batch_idx in range(max_batches):\n",
    "        optimizer.zero_grad()\n",
    "        # Training progress and GRL Lambda\n",
    "        p = float(((batch_idx + epoch_idx * max_batches) / (n_epochs * max_batches))/2)\n",
    "        grl_lambda = 2. / (1. + np.exp(-10*p)) - 1\n",
    "        \n",
    "        # Train on source domain\n",
    "        X_s, y_s = next(dl_source_iter)\n",
    "        X_s, y_s = X_s.cuda(), y_s.cuda()\n",
    "        y_s_domain = torch.zeros(batch_size, dtype=torch.long) # generate source domain labels\n",
    "        y_s_domain = y_s_domain.cuda()\n",
    "        \n",
    "        class_pred, domain_pred = model(X_s, grl_lambda)\n",
    "        loss_s_label = loss_fn_class(class_pred, y_s)\n",
    "        loss_s_domain = loss_fn_domain(domain_pred, y_s_domain)\n",
    "        \n",
    "        # Tran on target domain\n",
    "        X_t, _ = next(dl_target_iter) # ignore target domain class labels!\n",
    "        X_t = X_t.cuda()\n",
    "        y_t_domain = torch.ones(batch_size, dtype=torch.long) # generate target domain labels\n",
    "        y_t_domain = y_t_domain.cuda()\n",
    "        \n",
    "        _, domain_pred = model(X_t, grl_lambda)\n",
    "        loss_t_domain = loss_fn_domain(domain_pred, y_t_domain)\n",
    "        \n",
    "        # Calculate total loss\n",
    "        loss = loss_t_domain + loss_s_domain + loss_s_label\n",
    "        loss.backward()\n",
    "        optimizer.step()\n",
    "        \n",
    "        if batch_idx % 10 == 0:\n",
    "            print(f'[{batch_idx+1}/{max_batches}] '\n",
    "                  f'class_loss: {loss_s_label.item():.4f} ' f's_domain_loss: {loss_s_domain.item():.4f} '\n",
    "                  f't_domain_loss: {loss_t_domain.item():.4f} ' f'grl_lambda: {grl_lambda:.3f} '\n",
    "                 )\n",
    "            \n",
    "        \n",
    "        "
   ]
  },
  {
   "cell_type": "code",
   "execution_count": 291,
   "id": "0eeb04e3",
   "metadata": {},
   "outputs": [
    {
     "name": "stdout",
     "output_type": "stream",
     "text": [
      "8192\n"
     ]
    }
   ],
   "source": [
    "ts_source = dset.MNIST(root=root, train=False, transform=tf_source, download=True)\n",
    "ts_target = MNISTMDataset(os.path.join(root, 'mnist_m', 'mnist_m_test'),\n",
    "                         os.path.join(root, 'mnist_m', 'mnist_m_test_labels.txt'),\n",
    "                         transform=tf_target)\n",
    "batch_size1 = 1024\n",
    "test_dl_source = torch.utils.data.DataLoader(ts_source, batch_size1)\n",
    "test_dl_target = torch.utils.data.DataLoader(ts_target, batch_size1)\n",
    "#dataset_first_n(ts_source,3,cmap='gray')\n",
    "#dataset_first_n(ts_target,3)\n",
    "max_batches1 = min(len(test_dl_source), len(test_dl_target))-1\n",
    "num_samples = max_batches1 * batch_size1\n",
    "print(num_samples)\n",
    "\n",
    "#batch1_s = next(iter(test_dl_source))\n",
    "\n",
    "#print(f'True class labels: {batch1_s[1]}')\n",
    "#test_class, test_domain = model(batch1_s[0])\n",
    "#print(f'test class prediction: {torch.argmax(test_class, dim=1)}, test domain prediction: {torch.argmax(test_domain, dim=1)}')\n",
    "\n",
    "#total_correct = (batch1_s[1] == torch.argmax(test_class, dim=1)).sum().item() \n",
    "#print(type(float(total_correct)))\n",
    "\n",
    "\n",
    "\n",
    "\n",
    "\n"
   ]
  },
  {
   "cell_type": "code",
   "execution_count": 294,
   "id": "8320f0dc",
   "metadata": {
    "scrolled": true
   },
   "outputs": [
    {
     "name": "stdout",
     "output_type": "stream",
     "text": [
      "Batch 0001 / 0008\n",
      "=================\n",
      "============Source Domain Inference============\n",
      "Class Accuracy: 0.794921875, Domain Accuracry: 0.6015625\n",
      "============Target Domain Inference============\n",
      "Class Accuracy: 0.270, Domain Accuracry: 0.587\n",
      "Batch 0002 / 0008\n",
      "=================\n",
      "============Source Domain Inference============\n",
      "Class Accuracy: 0.80078125, Domain Accuracry: 0.5537109375\n",
      "============Target Domain Inference============\n",
      "Class Accuracy: 0.260, Domain Accuracry: 0.599\n",
      "Batch 0003 / 0008\n",
      "=================\n",
      "============Source Domain Inference============\n",
      "Class Accuracy: 0.8115234375, Domain Accuracry: 0.5830078125\n",
      "============Target Domain Inference============\n",
      "Class Accuracy: 0.271, Domain Accuracry: 0.594\n",
      "Batch 0004 / 0008\n",
      "=================\n",
      "============Source Domain Inference============\n",
      "Class Accuracy: 0.794921875, Domain Accuracry: 0.5830078125\n",
      "============Target Domain Inference============\n",
      "Class Accuracy: 0.277, Domain Accuracry: 0.600\n",
      "Batch 0005 / 0008\n",
      "=================\n",
      "============Source Domain Inference============\n",
      "Class Accuracy: 0.8115234375, Domain Accuracry: 0.5849609375\n",
      "============Target Domain Inference============\n",
      "Class Accuracy: 0.271, Domain Accuracry: 0.579\n",
      "Batch 0006 / 0008\n",
      "=================\n",
      "============Source Domain Inference============\n",
      "Class Accuracy: 0.83203125, Domain Accuracry: 0.6611328125\n",
      "============Target Domain Inference============\n",
      "Class Accuracy: 0.298, Domain Accuracry: 0.618\n",
      "Batch 0007 / 0008\n",
      "=================\n",
      "============Source Domain Inference============\n",
      "Class Accuracy: 0.7978515625, Domain Accuracry: 0.6923828125\n",
      "============Target Domain Inference============\n",
      "Class Accuracy: 0.304, Domain Accuracry: 0.603\n",
      "Batch 0008 / 0008\n",
      "=================\n",
      "============Source Domain Inference============\n",
      "Class Accuracy: 0.7939453125, Domain Accuracry: 0.7119140625\n",
      "============Target Domain Inference============\n",
      "Class Accuracy: 0.297, Domain Accuracry: 0.618\n",
      "+++++++++++++++Final Source Accuracy+++++++++++++++\n",
      "Class Accurary 0.805, Domain Accuracy: 0.621\n",
      "+++++++++++++++Final Target Accuracy+++++++++++++++\n",
      "Class Accurary 0.281, Domain Accuracy: 0.600\n"
     ]
    }
   ],
   "source": [
    "\n",
    "test_source_iter = iter(test_dl_source)\n",
    "test_target_iter = iter(test_dl_target)\n",
    "\n",
    "s_class_labelled_correctly = 0\n",
    "s_domain_labelled_correctly = 0\n",
    "t_class_labelled_correctly = 0\n",
    "t_domain_labelled_correctly = 0\n",
    "model.eval()\n",
    "# Evaluate training\n",
    "for batch_idx in range(max_batches1):\n",
    "    print(f'Batch {batch_idx+1:04d} / {max_batches1:04d}', end='\\n=================\\n')\n",
    "    \n",
    "    # source domain\n",
    "    X_s, y_s = next(test_source_iter)\n",
    "    X_s, y_s = X_s.cuda(), y_s.cuda()\n",
    "    y_s_domain = torch.zeros(batch_size1, dtype=torch.long) # generate source domain labels   \n",
    "    y_s_domain = y_s_domain.cuda()\n",
    "    \n",
    "    # Inference Source Domain\n",
    "    Y_s_pred, Y_s_domain_pred = model(X_s)\n",
    "    correct_class_pred = float((y_s == torch.argmax(Y_s_pred, dim=1)).sum().item())\n",
    "    correct_domain_pred = float((y_s_domain == torch.argmax(Y_s_domain_pred, dim=1)).sum().item())\n",
    "    print(\"============Source Domain Inference============\")\n",
    "    print(f'Class Accuracy: {correct_class_pred/batch_size1}, Domain Accuracry: {correct_domain_pred/batch_size1}')\n",
    "    s_class_labelled_correctly += correct_class_pred\n",
    "    s_domain_labelled_correctly += correct_domain_pred\n",
    "    correct_class_pred = 0\n",
    "    correct_domain_pred = 0\n",
    "    \n",
    "    # Target domain\n",
    "    X_t, y_t = next(test_target_iter) # ignore target domain class labels!\n",
    "    X_t, y_t = X_t.cuda(), y_t.cuda()\n",
    "    y_t_domain = torch.ones(batch_size1, dtype=torch.long) # generate target domain labels\n",
    "    y_t_domain = y_t_domain.cuda()\n",
    "    \n",
    "    # Inference Target Domain\n",
    "    Y_t_pred, Y_t_domain_pred = model(X_t)\n",
    "    correct_class_pred = float((y_t == torch.argmax(Y_t_pred, dim=1)).sum().item())\n",
    "    correct_domain_pred = float((y_t_domain == torch.argmax(Y_t_domain_pred, dim=1)).sum().item())\n",
    "    print(\"============Target Domain Inference============\")\n",
    "    print(f'Class Accuracy: {correct_class_pred/batch_size1:.3f}, Domain Accuracry: {correct_domain_pred/batch_size1:.3f}')\n",
    "    t_class_labelled_correctly += correct_class_pred\n",
    "    t_domain_labelled_correctly += correct_domain_pred\n",
    "    correct_class_pred = 0\n",
    "    correct_domain_pred = 0\n",
    "    \n",
    "print(f'+++++++++++++++Final Source Accuracy+++++++++++++++')\n",
    "print(f'Class Accurary {s_class_labelled_correctly/num_samples:.3f}, Domain Accuracy: {s_domain_labelled_correctly/num_samples:.3f}')\n",
    "print(f'+++++++++++++++Final Target Accuracy+++++++++++++++')\n",
    "print(f'Class Accurary {t_class_labelled_correctly/num_samples:.3f}, Domain Accuracy: {t_domain_labelled_correctly/num_samples:.3f}')\n",
    "     "
   ]
  },
  {
   "cell_type": "code",
   "execution_count": 242,
   "id": "3490d7e6",
   "metadata": {
    "collapsed": true
   },
   "outputs": [
    {
     "data": {
      "text/plain": [
       "Dataset MNIST\n",
       "    Number of datapoints: 10000\n",
       "    Root location: ./data\n",
       "    Split: Test\n",
       "    StandardTransform\n",
       "Transform: Compose(\n",
       "               Resize(size=28, interpolation=bilinear, max_size=None, antialias=None)\n",
       "               ToTensor()\n",
       "               Normalize(mean=(0.1307,), std=(0.3081,))\n",
       "           )"
      ]
     },
     "execution_count": 242,
     "metadata": {},
     "output_type": "execute_result"
    }
   ],
   "source": [
    "\n"
   ]
  },
  {
   "cell_type": "code",
   "execution_count": 156,
   "id": "63d9a457",
   "metadata": {},
   "outputs": [
    {
     "name": "stdout",
     "output_type": "stream",
     "text": [
      "4\n",
      "torch.Size([4, 3, 3, 3])\n"
     ]
    }
   ],
   "source": [
    "x = torch.rand(4,1,3,3)\n",
    "print(x.shape)\n",
    "y = torch.rand(4,3,3,3)\n",
    "print(y.shape)"
   ]
  },
  {
   "cell_type": "code",
   "execution_count": 155,
   "id": "a577af3b",
   "metadata": {},
   "outputs": [
    {
     "name": "stdout",
     "output_type": "stream",
     "text": [
      "torch.Size([4, 3, 3, 3])\n",
      "torch.Size([4, 3, 3, 3])\n"
     ]
    }
   ],
   "source": [
    "x3 = x.expand(x.data.shape[0], 3, 3, 3)\n",
    "print(x3.shape)\n",
    "y3 = y.expand(y.data.shape[0], 3, 3, 3)\n",
    "print(y3.shape)\n",
    "#y.data.shape"
   ]
  },
  {
   "cell_type": "code",
   "execution_count": 149,
   "id": "260cd3b3",
   "metadata": {},
   "outputs": [
    {
     "data": {
      "text/plain": [
       "torch.Size([4, 3, 28, 28])"
      ]
     },
     "execution_count": 149,
     "metadata": {},
     "output_type": "execute_result"
    }
   ],
   "source": [
    "next(iter(dl_target))[0].shape"
   ]
  },
  {
   "cell_type": "code",
   "execution_count": 159,
   "id": "bb36c215",
   "metadata": {},
   "outputs": [
    {
     "name": "stdout",
     "output_type": "stream",
     "text": [
      "tensor([[0.4650, 0.3285],\n",
      "        [0.2892, 0.7568],\n",
      "        [0.1109, 0.1639],\n",
      "        [0.7242, 0.3260]])\n"
     ]
    }
   ],
   "source": [
    "x = torch.rand(4,2)\n",
    "print(x)"
   ]
  },
  {
   "cell_type": "code",
   "execution_count": 165,
   "id": "6f620504",
   "metadata": {},
   "outputs": [
    {
     "name": "stdout",
     "output_type": "stream",
     "text": [
      "tensor([[0.4650, 0.3285, 0.2892, 0.7568],\n",
      "        [0.1109, 0.1639, 0.7242, 0.3260]])\n"
     ]
    }
   ],
   "source": [
    "x2 = x.view(2, 4)\n",
    "print(x2)"
   ]
  },
  {
   "cell_type": "code",
   "execution_count": null,
   "id": "4e6be1b5",
   "metadata": {},
   "outputs": [],
   "source": []
  }
 ],
 "metadata": {
  "kernelspec": {
   "display_name": "Python 3 (ipykernel)",
   "language": "python",
   "name": "python3"
  },
  "language_info": {
   "codemirror_mode": {
    "name": "ipython",
    "version": 3
   },
   "file_extension": ".py",
   "mimetype": "text/x-python",
   "name": "python",
   "nbconvert_exporter": "python",
   "pygments_lexer": "ipython3",
   "version": "3.8.10"
  }
 },
 "nbformat": 4,
 "nbformat_minor": 5
}
