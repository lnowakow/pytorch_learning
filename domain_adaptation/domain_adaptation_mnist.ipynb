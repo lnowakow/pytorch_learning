{
 "cells": [
  {
   "cell_type": "code",
   "execution_count": 1,
   "id": "435499c1",
   "metadata": {},
   "outputs": [
    {
     "data": {
      "text/plain": [
       "device(type='cuda')"
      ]
     },
     "execution_count": 1,
     "metadata": {},
     "output_type": "execute_result"
    }
   ],
   "source": [
    "import os\n",
    "import math\n",
    "import torch\n",
    "import torch.nn as nn\n",
    "from torch.autograd import Variable\n",
    "import torchvision.datasets as dset\n",
    "import torchvision.transforms as transforms\n",
    "import torch.nn.functional as F\n",
    "import torch.optim as optim\n",
    "\n",
    "\n",
    "import numpy as np\n",
    "import matplotlib.pyplot as plt\n",
    "\n",
    "use_cuda = torch.cuda.is_available()\n",
    "\n",
    "root = './data'\n",
    "if not os.path.exists(root):\n",
    "    os.mkdir(root)\n",
    "    \n",
    "device = torch.device('cuda' if torch.cuda.is_available() else 'cpu')\n",
    "device"
   ]
  },
  {
   "cell_type": "code",
   "execution_count": 2,
   "id": "488ad72e",
   "metadata": {},
   "outputs": [
    {
     "name": "stdout",
     "output_type": "stream",
     "text": [
      "/home/ubuntu/workspace/pytorch_notes/domain_adaptation\r\n"
     ]
    }
   ],
   "source": [
    "!pwd"
   ]
  },
  {
   "cell_type": "code",
   "execution_count": 7,
   "id": "bb2314b1",
   "metadata": {},
   "outputs": [],
   "source": [
    "from dataAPI import MNISTMDataset\n",
    "\n",
    "# Prepare Data\n",
    "image_size = 28\n",
    "batch_size = 4\n",
    "\n",
    "tf_source = transforms.Compose([\n",
    "    transforms.Resize(image_size), transforms.ToTensor(), transforms.Normalize(mean=(0.1307,), std=(0.3081,))\n",
    "])\n",
    "tf_target = transforms.Compose([\n",
    "    transforms.Resize(image_size), transforms.ToTensor(), transforms.Normalize(mean=(0.5,0.5,0.5), std=(0.5,0.5,0.5))\n",
    "])\n",
    "\n",
    "# Original MNIST dataset\n",
    "ds_source = dset.MNIST(root=root, train=True, transform=tf_source, download=True)\n",
    "dl_source = torch.utils.data.DataLoader(ds_source, batch_size)\n",
    "# Custom MNISTM dataset\n",
    "ds_target = MNISTMDataset(os.path.join(root, 'mnist_m', 'mnist_m_train'),\n",
    "                         os.path.join(root, 'mnist_m', 'mnist_m_train_labels.txt'),\n",
    "                         transform=tf_target)\n",
    "dl_target = torch.utils.data.DataLoader(ds_target, batch_size)"
   ]
  },
  {
   "cell_type": "code",
   "execution_count": 11,
   "id": "b58cde49",
   "metadata": {},
   "outputs": [
    {
     "data": {
      "text/plain": [
       "(<Figure size 576x576 with 3 Axes>,\n",
       " array([<matplotlib.axes._subplots.AxesSubplot object at 0x7fcfcd6eb820>,\n",
       "        <matplotlib.axes._subplots.AxesSubplot object at 0x7fcfcd709cd0>,\n",
       "        <matplotlib.axes._subplots.AxesSubplot object at 0x7fcfcd6bd1f0>],\n",
       "       dtype=object))"
      ]
     },
     "execution_count": 11,
     "metadata": {},
     "output_type": "execute_result"
    },
    {
     "data": {
      "image/png": "[encoded data removed]",
      "text/plain": [
       "<Figure size 576x576 with 3 Axes>"
      ]
     },
     "metadata": {},
     "output_type": "display_data"
    },
    {
     "data": {
      "image/png": "[encoded data removed]",
      "text/plain": [
       "<Figure size 576x576 with 3 Axes>"
      ]
     },
     "metadata": {},
     "output_type": "display_data"
    }
   ],
   "source": [
    "from plot_utils import dataset_first_n\n",
    "\n",
    "# plot first n images\n",
    "def plot_first_n(ds, n=3, cmap=None):\n",
    "    \n",
    "    max_cols = 5\n",
    "    num_rows = math.ceil(n/max_cols)\n",
    "    num_cols = n  if n < max_cols else max_cols\n",
    "    print(f'subplot will have dimensions {num_rows}, {num_cols}')\n",
    "    \n",
    "    mnist_iter = iter(ds)\n",
    "    i = 0\n",
    "    f, axarr = plt.subplots(num_rows, num_cols)\n",
    "    for mnist_data, _ in mnist_iter:\n",
    "        \n",
    "        ch, h, w = mnist_data.shape\n",
    "        if num_rows > 1:\n",
    "            axarr[math.floor(i/num_cols),i%num_cols].imshow(mnist_data.reshape(h,w,ch).squeeze(), cmap)\n",
    "        else:\n",
    "            axarr[i].imshow(mnist_data.reshape(h,w,ch).squeeze(), cmap)\n",
    "        i += 1\n",
    "        if i == n:\n",
    "            break\n",
    "    np.vectorize(lambda ax:ax.axis('off'))(axarr)\n",
    "        \n",
    "        \n",
    "    \n",
    "#plot_first_n(ds_source, n=3, cmap='gray')\n",
    "#plot_first_n(ds_target, n=3)\n",
    "\n",
    "dataset_first_n(ds_source,3,cmap='gray')\n",
    "dataset_first_n(ds_target,3)\n"
   ]
  },
  {
   "cell_type": "code",
   "execution_count": 12,
   "id": "b654b80e",
   "metadata": {},
   "outputs": [],
   "source": [
    "# gradient reversal\n",
    "from torch.autograd import Function\n",
    "\n",
    "# Autograd Function objects are what record operation history on tensors\n",
    "# and define formulas for the forwawrd and backprop.\n",
    "\n",
    "class GradientReversalFn(Function):\n",
    "    @staticmethod\n",
    "    def forward(ctx, x, alpha):\n",
    "        # Store context for backprop\n",
    "        ctx.alpha = alpha\n",
    "        \n",
    "        # Forward pass is a no-op\n",
    "        return x.view_as(x)\n",
    "    \n",
    "    @staticmethod\n",
    "    def backward(ctx, grad_output):\n",
    "        # Backward pass is just to -alpha the gradient\n",
    "        output = grad_output.neg() * ctx.alpha\n",
    "        \n",
    "        # Must return same number as inputs to forward()\n",
    "        return output, None"
   ]
  },
  {
   "cell_type": "code",
   "execution_count": 13,
   "id": "b9b56082",
   "metadata": {},
   "outputs": [],
   "source": [
    "# Adverserial Network\n",
    "class DACNN(nn.Module):\n",
    "    def __init__(self):\n",
    "        super().__init__()\n",
    "        self.feature_extractor = nn.Sequential(\n",
    "            nn.Conv2d(3,64, kernel_size=5),\n",
    "            nn.BatchNorm2d(64), nn.MaxPool2d(2),\n",
    "            nn.ReLU(True),\n",
    "            nn.Conv2d(64,50, kernel_size=5),\n",
    "            nn.BatchNorm2d(50), nn.Dropout(), nn.MaxPool2d(2),\n",
    "            nn.ReLU(True),\n",
    "        )\n",
    "        self.class_classifier = nn.Sequential(\n",
    "            nn.Linear(50*4*4,100), nn.BatchNorm1d(100), nn.Dropout(),\n",
    "            nn.ReLU(True),\n",
    "            nn.Linear(100,100), nn.BatchNorm1d(100), nn.Dropout(),\n",
    "            nn.ReLU(True),\n",
    "            nn.Linear(100,10),\n",
    "            nn.LogSoftmax(dim=1),\n",
    "        )\n",
    "        self.domain_classifier = nn.Sequential(\n",
    "            nn.Linear(50*4*4, 100), nn.BatchNorm1d(100),\n",
    "            nn.ReLU(True),\n",
    "            nn.Linear(100,2),\n",
    "            nn.LogSoftmax(dim=1),\n",
    "        )\n",
    "        \n",
    "    def forward(self, x, grl_lambda=1.0):\n",
    "        # Handle single-channel input by expanding (repeating) the singleton dimension\n",
    "        x = x.expand(x.data.shape[0], 3, image_size, image_size)\n",
    "        \n",
    "        features = self.feature_extractor(x)\n",
    "        features = features.view(-1, 50 * 4 * 4)\n",
    "        reverse_features = GradientReversalFn.apply(features, grl_lambda)\n",
    "        \n",
    "        class_pred = self.class_classifier(features)\n",
    "        domain_pred = self.domain_classifier(reverse_features)\n",
    "        return class_pred, domain_pred\n",
    "             "
   ]
  },
  {
   "cell_type": "code",
   "execution_count": 14,
   "id": "67b4b336",
   "metadata": {
    "scrolled": true
   },
   "outputs": [
    {
     "name": "stdout",
     "output_type": "stream",
     "text": [
      "source domain:  torch.Size([4, 1, 28, 28]) torch.Size([4])\n",
      "target domain:  torch.Size([4, 3, 28, 28]) torch.Size([4])\n"
     ]
    },
    {
     "data": {
      "text/plain": [
       "(tensor([[-3.2312, -2.7003, -1.8831, -1.7526, -1.6379, -3.3733, -2.5863, -2.6556,\n",
       "          -1.8112, -3.5002],\n",
       "         [-2.6910, -2.6012, -1.6860, -2.0630, -2.5157, -3.2207, -2.7131, -1.2961,\n",
       "          -2.6798, -4.1090],\n",
       "         [-1.6913, -2.4938, -2.9626, -1.8189, -2.9650, -2.8794, -1.7845, -2.0585,\n",
       "          -2.3709, -3.7904],\n",
       "         [-2.9101, -2.9688, -2.2144, -2.1910, -1.4943, -3.5876, -2.6090, -1.9724,\n",
       "          -1.7049, -3.6288]], device='cuda:0', grad_fn=<LogSoftmaxBackward0>),\n",
       " tensor([[-0.7226, -0.6646],\n",
       "         [-1.0556, -0.4277],\n",
       "         [-0.4652, -0.9889],\n",
       "         [-0.5888, -0.8097]], device='cuda:0', grad_fn=<LogSoftmaxBackward0>))"
      ]
     },
     "execution_count": 14,
     "metadata": {},
     "output_type": "execute_result"
    }
   ],
   "source": [
    "model = DACNN().cuda()\n",
    "x0_s, y0_s = next(iter(dl_source))\n",
    "x0_t, y0_t = next(iter(dl_target))\n",
    "\n",
    "print('source domain: ', x0_s.shape, y0_s.shape)\n",
    "print('target domain: ', x0_t.shape, y0_t.shape)\n",
    "x0_s = x0_s.cuda()\n",
    "x0_t = x0_t.cuda()\n",
    "model(x0_s)\n",
    "model(x0_t)\n"
   ]
  },
  {
   "cell_type": "markdown",
   "id": "7b059944",
   "metadata": {},
   "source": [
    "**Training**"
   ]
  },
  {
   "cell_type": "code",
   "execution_count": 15,
   "id": "eaee1290",
   "metadata": {},
   "outputs": [],
   "source": [
    "lr = 1e-3\n",
    "n_epochs = 10\n",
    "\n",
    "# Setup optimizer as usual\n",
    "model = DACNN().cuda()\n",
    "optimizer = optim.Adam(model.parameters(), lr)\n",
    "\n",
    "# Two losses functions this time\n",
    "loss_fn_class = torch.nn.NLLLoss()\n",
    "loss_fn_domain = torch.nn.NLLLoss()"
   ]
  },
  {
   "cell_type": "code",
   "execution_count": 16,
   "id": "0723a7e8",
   "metadata": {},
   "outputs": [
    {
     "name": "stdout",
     "output_type": "stream",
     "text": [
      "57\n"
     ]
    },
    {
     "data": {
      "text/plain": [
       "\"\\ndl_iter = iter(dl_source)\\nfor i in range(max_batches+1):\\n    element, _ = next(dl_iter)\\n    print(f'element #{i} has shape: {element.shape}')\\n\""
      ]
     },
     "execution_count": 16,
     "metadata": {},
     "output_type": "execute_result"
    }
   ],
   "source": [
    "batch_size = 1024\n",
    "dl_source = torch.utils.data.DataLoader(ds_source, batch_size)\n",
    "dl_target = torch.utils.data.DataLoader(ds_target, batch_size)\n",
    "\n",
    "# We'll train the same number of batches from both datasets\n",
    "max_batches = min(len(dl_source), len(dl_target)) -1\n",
    "print(max_batches)\n",
    "'''\n",
    "dl_iter = iter(dl_source)\n",
    "for i in range(max_batches+1):\n",
    "    element, _ = next(dl_iter)\n",
    "    print(f'element #{i} has shape: {element.shape}')\n",
    "'''"
   ]
  },
  {
   "cell_type": "code",
   "execution_count": 17,
   "id": "94cbebff",
   "metadata": {},
   "outputs": [
    {
     "name": "stdout",
     "output_type": "stream",
     "text": [
      "Epoch 0001 / 0010\n",
      "=================\n",
      "[1/57] class_loss: 2.4584 s_domain_loss: 0.7831 t_domain_loss: 0.6756 grl_lambda: 0.000 \n",
      "[11/57] class_loss: 1.2835 s_domain_loss: 0.6335 t_domain_loss: 0.7096 grl_lambda: 0.044 \n",
      "[21/57] class_loss: 0.9343 s_domain_loss: 0.6033 t_domain_loss: 0.6848 grl_lambda: 0.087 \n",
      "[31/57] class_loss: 0.7330 s_domain_loss: 0.5849 t_domain_loss: 0.6470 grl_lambda: 0.131 \n",
      "[41/57] class_loss: 0.5529 s_domain_loss: 0.5661 t_domain_loss: 0.6244 grl_lambda: 0.174 \n",
      "[51/57] class_loss: 0.4123 s_domain_loss: 0.5459 t_domain_loss: 0.6309 grl_lambda: 0.216 \n",
      "Epoch 0002 / 0010\n",
      "=================\n",
      "[1/57] class_loss: 0.3515 s_domain_loss: 0.5693 t_domain_loss: 0.5668 grl_lambda: 0.245 \n",
      "[11/57] class_loss: 0.2831 s_domain_loss: 0.4974 t_domain_loss: 0.5296 grl_lambda: 0.286 \n",
      "[21/57] class_loss: 0.2909 s_domain_loss: 0.5594 t_domain_loss: 0.5740 grl_lambda: 0.325 \n",
      "[31/57] class_loss: 0.2896 s_domain_loss: 0.5134 t_domain_loss: 0.5782 grl_lambda: 0.364 \n",
      "[41/57] class_loss: 0.2657 s_domain_loss: 0.5624 t_domain_loss: 0.5116 grl_lambda: 0.402 \n",
      "[51/57] class_loss: 0.2387 s_domain_loss: 0.5259 t_domain_loss: 0.6039 grl_lambda: 0.438 \n",
      "Epoch 0003 / 0010\n",
      "=================\n",
      "[1/57] class_loss: 0.2373 s_domain_loss: 0.5620 t_domain_loss: 0.5648 grl_lambda: 0.462 \n",
      "[11/57] class_loss: 0.2136 s_domain_loss: 0.4990 t_domain_loss: 0.5280 grl_lambda: 0.496 \n",
      "[21/57] class_loss: 0.2375 s_domain_loss: 0.5702 t_domain_loss: 0.5548 grl_lambda: 0.528 \n",
      "[31/57] class_loss: 0.2731 s_domain_loss: 0.5927 t_domain_loss: 0.6322 grl_lambda: 0.559 \n",
      "[41/57] class_loss: 0.2681 s_domain_loss: 0.5853 t_domain_loss: 0.5506 grl_lambda: 0.589 \n",
      "[51/57] class_loss: 0.2164 s_domain_loss: 0.5054 t_domain_loss: 0.5583 grl_lambda: 0.616 \n",
      "Epoch 0004 / 0010\n",
      "=================\n",
      "[1/57] class_loss: 0.2316 s_domain_loss: 0.6300 t_domain_loss: 0.5466 grl_lambda: 0.635 \n",
      "[11/57] class_loss: 0.2235 s_domain_loss: 0.5827 t_domain_loss: 0.6535 grl_lambda: 0.661 \n",
      "[21/57] class_loss: 0.2252 s_domain_loss: 0.6224 t_domain_loss: 0.5519 grl_lambda: 0.685 \n",
      "[31/57] class_loss: 0.2257 s_domain_loss: 0.6039 t_domain_loss: 0.6187 grl_lambda: 0.707 \n",
      "[41/57] class_loss: 0.2825 s_domain_loss: 0.6271 t_domain_loss: 0.5973 grl_lambda: 0.728 \n",
      "[51/57] class_loss: 0.2270 s_domain_loss: 0.5924 t_domain_loss: 0.5808 grl_lambda: 0.748 \n",
      "Epoch 0005 / 0010\n",
      "=================\n",
      "[1/57] class_loss: 0.2153 s_domain_loss: 0.6358 t_domain_loss: 0.5422 grl_lambda: 0.762 \n",
      "[11/57] class_loss: 0.1960 s_domain_loss: 0.5610 t_domain_loss: 0.5680 grl_lambda: 0.779 \n",
      "[21/57] class_loss: 0.1960 s_domain_loss: 0.5634 t_domain_loss: 0.5445 grl_lambda: 0.796 \n",
      "[31/57] class_loss: 0.2649 s_domain_loss: 0.5756 t_domain_loss: 0.5677 grl_lambda: 0.812 \n",
      "[41/57] class_loss: 0.2493 s_domain_loss: 0.6263 t_domain_loss: 0.5262 grl_lambda: 0.826 \n",
      "[51/57] class_loss: 0.1983 s_domain_loss: 0.5050 t_domain_loss: 0.5218 grl_lambda: 0.839 \n",
      "Epoch 0006 / 0010\n",
      "=================\n",
      "[1/57] class_loss: 0.2041 s_domain_loss: 0.4933 t_domain_loss: 0.5005 grl_lambda: 0.848 \n",
      "[11/57] class_loss: 0.1824 s_domain_loss: 0.5170 t_domain_loss: 0.5140 grl_lambda: 0.860 \n",
      "[21/57] class_loss: 0.1880 s_domain_loss: 0.4754 t_domain_loss: 0.4924 grl_lambda: 0.871 \n",
      "[31/57] class_loss: 0.2178 s_domain_loss: 0.5307 t_domain_loss: 0.5156 grl_lambda: 0.881 \n",
      "[41/57] class_loss: 0.2830 s_domain_loss: 0.5223 t_domain_loss: 0.5596 grl_lambda: 0.891 \n",
      "[51/57] class_loss: 0.2517 s_domain_loss: 0.5282 t_domain_loss: 0.5079 grl_lambda: 0.899 \n",
      "Epoch 0007 / 0010\n",
      "=================\n",
      "[1/57] class_loss: 0.2237 s_domain_loss: 0.5262 t_domain_loss: 0.5808 grl_lambda: 0.905 \n",
      "[11/57] class_loss: 0.2163 s_domain_loss: 0.5836 t_domain_loss: 0.6012 grl_lambda: 0.913 \n",
      "[21/57] class_loss: 0.2133 s_domain_loss: 0.6666 t_domain_loss: 0.6031 grl_lambda: 0.920 \n",
      "[31/57] class_loss: 0.2710 s_domain_loss: 0.6717 t_domain_loss: 0.6628 grl_lambda: 0.926 \n",
      "[41/57] class_loss: 0.3204 s_domain_loss: 0.7039 t_domain_loss: 0.6442 grl_lambda: 0.932 \n",
      "[51/57] class_loss: 0.2279 s_domain_loss: 0.6123 t_domain_loss: 0.6243 grl_lambda: 0.938 \n",
      "Epoch 0008 / 0010\n",
      "=================\n",
      "[1/57] class_loss: 0.2174 s_domain_loss: 0.6163 t_domain_loss: 0.5548 grl_lambda: 0.941 \n",
      "[11/57] class_loss: 0.2255 s_domain_loss: 0.6050 t_domain_loss: 0.6221 grl_lambda: 0.946 \n",
      "[21/57] class_loss: 0.2545 s_domain_loss: 0.5965 t_domain_loss: 0.6188 grl_lambda: 0.951 \n",
      "[31/57] class_loss: 0.2295 s_domain_loss: 0.5908 t_domain_loss: 0.5957 grl_lambda: 0.955 \n",
      "[41/57] class_loss: 0.2346 s_domain_loss: 0.6087 t_domain_loss: 0.5478 grl_lambda: 0.958 \n",
      "[51/57] class_loss: 0.2086 s_domain_loss: 0.5689 t_domain_loss: 0.5769 grl_lambda: 0.962 \n",
      "Epoch 0009 / 0010\n",
      "=================\n",
      "[1/57] class_loss: 0.2529 s_domain_loss: 0.5875 t_domain_loss: 0.5701 grl_lambda: 0.964 \n",
      "[11/57] class_loss: 0.2147 s_domain_loss: 0.5737 t_domain_loss: 0.5429 grl_lambda: 0.967 \n",
      "[21/57] class_loss: 0.2275 s_domain_loss: 0.5346 t_domain_loss: 0.5844 grl_lambda: 0.970 \n",
      "[31/57] class_loss: 0.2799 s_domain_loss: 0.6080 t_domain_loss: 0.5439 grl_lambda: 0.972 \n",
      "[41/57] class_loss: 0.2487 s_domain_loss: 0.5721 t_domain_loss: 0.5790 grl_lambda: 0.975 \n",
      "[51/57] class_loss: 0.2253 s_domain_loss: 0.5563 t_domain_loss: 0.5629 grl_lambda: 0.977 \n",
      "Epoch 0010 / 0010\n",
      "=================\n",
      "[1/57] class_loss: 0.2069 s_domain_loss: 0.5543 t_domain_loss: 0.5423 grl_lambda: 0.978 \n",
      "[11/57] class_loss: 0.1982 s_domain_loss: 0.5336 t_domain_loss: 0.5651 grl_lambda: 0.980 \n",
      "[21/57] class_loss: 0.2098 s_domain_loss: 0.5539 t_domain_loss: 0.5155 grl_lambda: 0.982 \n",
      "[31/57] class_loss: 0.2550 s_domain_loss: 0.5385 t_domain_loss: 0.5506 grl_lambda: 0.983 \n",
      "[41/57] class_loss: 0.2649 s_domain_loss: 0.5431 t_domain_loss: 0.5017 grl_lambda: 0.984 \n",
      "[51/57] class_loss: 0.2043 s_domain_loss: 0.4728 t_domain_loss: 0.4722 grl_lambda: 0.986 \n"
     ]
    }
   ],
   "source": [
    "model.train()\n",
    "for epoch_idx in range(n_epochs):\n",
    "    print(f'Epoch {epoch_idx+1:04d} / {n_epochs:04d}', end='\\n=================\\n')\n",
    "    dl_source_iter = iter(dl_source)\n",
    "    dl_target_iter = iter(dl_target)\n",
    "    \n",
    "    for batch_idx in range(max_batches):\n",
    "        optimizer.zero_grad()\n",
    "        # Training progress and GRL Lambda\n",
    "        p = float(((batch_idx + epoch_idx * max_batches) / (n_epochs * max_batches))/2)\n",
    "        grl_lambda = 2. / (1. + np.exp(-10*p)) - 1\n",
    "        \n",
    "        # Train on source domain\n",
    "        X_s, y_s = next(dl_source_iter)\n",
    "        X_s, y_s = X_s.cuda(), y_s.cuda()\n",
    "        y_s_domain = torch.zeros(batch_size, dtype=torch.long) # generate source domain labels\n",
    "        y_s_domain = y_s_domain.cuda()\n",
    "        \n",
    "        class_pred, domain_pred = model(X_s, grl_lambda)\n",
    "        loss_s_label = loss_fn_class(class_pred, y_s)\n",
    "        loss_s_domain = loss_fn_domain(domain_pred, y_s_domain)\n",
    "        \n",
    "        # Tran on target domain\n",
    "        X_t, _ = next(dl_target_iter) # ignore target domain class labels!\n",
    "        X_t = X_t.cuda()\n",
    "        y_t_domain = torch.ones(batch_size, dtype=torch.long) # generate target domain labels\n",
    "        y_t_domain = y_t_domain.cuda()\n",
    "        \n",
    "        _, domain_pred = model(X_t, grl_lambda)\n",
    "        loss_t_domain = loss_fn_domain(domain_pred, y_t_domain)\n",
    "        \n",
    "        # Calculate total loss\n",
    "        loss = loss_t_domain + loss_s_domain + loss_s_label\n",
    "        loss.backward()\n",
    "        optimizer.step()\n",
    "        \n",
    "        if batch_idx % 10 == 0:\n",
    "            print(f'[{batch_idx+1}/{max_batches}] '\n",
    "                  f'class_loss: {loss_s_label.item():.4f} ' f's_domain_loss: {loss_s_domain.item():.4f} '\n",
    "                  f't_domain_loss: {loss_t_domain.item():.4f} ' f'grl_lambda: {grl_lambda:.3f} '\n",
    "                 )\n",
    "            \n",
    "        \n",
    "        "
   ]
  },
  {
   "cell_type": "code",
   "execution_count": 18,
   "id": "0eeb04e3",
   "metadata": {},
   "outputs": [
    {
     "name": "stdout",
     "output_type": "stream",
     "text": [
      "8192\n"
     ]
    }
   ],
   "source": [
    "ts_source = dset.MNIST(root=root, train=False, transform=tf_source, download=True)\n",
    "ts_target = MNISTMDataset(os.path.join(root, 'mnist_m', 'mnist_m_test'),\n",
    "                         os.path.join(root, 'mnist_m', 'mnist_m_test_labels.txt'),\n",
    "                         transform=tf_target)\n",
    "batch_size1 = 1024\n",
    "test_dl_source = torch.utils.data.DataLoader(ts_source, batch_size1)\n",
    "test_dl_target = torch.utils.data.DataLoader(ts_target, batch_size1)\n",
    "#dataset_first_n(ts_source,3,cmap='gray')\n",
    "#dataset_first_n(ts_target,3)\n",
    "max_batches1 = min(len(test_dl_source), len(test_dl_target))-1\n",
    "num_samples = max_batches1 * batch_size1\n",
    "print(num_samples)\n",
    "\n",
    "#batch1_s = next(iter(test_dl_source))\n",
    "\n",
    "#print(f'True class labels: {batch1_s[1]}')\n",
    "#test_class, test_domain = model(batch1_s[0])\n",
    "#print(f'test class prediction: {torch.argmax(test_class, dim=1)}, test domain prediction: {torch.argmax(test_domain, dim=1)}')\n",
    "\n",
    "#total_correct = (batch1_s[1] == torch.argmax(test_class, dim=1)).sum().item() \n",
    "#print(type(float(total_correct)))\n",
    "\n",
    "\n",
    "\n",
    "\n",
    "\n"
   ]
  },
  {
   "cell_type": "code",
   "execution_count": 23,
   "id": "8320f0dc",
   "metadata": {
    "scrolled": true
   },
   "outputs": [
    {
     "name": "stdout",
     "output_type": "stream",
     "text": [
      "Batch 0001 / 0008\n",
      "=================\n",
      "============Source Domain Inference============\n",
      "Class Accuracy: 0.9248046875, Domain Accuracry: 0.6630859375\n",
      "============Target Domain Inference============\n",
      "Class Accuracy: 0.214, Domain Accuracry: 0.809\n",
      "Batch 0002 / 0008\n",
      "=================\n",
      "============Source Domain Inference============\n",
      "Class Accuracy: 0.9150390625, Domain Accuracry: 0.7119140625\n",
      "============Target Domain Inference============\n",
      "Class Accuracy: 0.190, Domain Accuracry: 0.786\n",
      "Batch 0003 / 0008\n",
      "=================\n",
      "============Source Domain Inference============\n",
      "Class Accuracy: 0.923828125, Domain Accuracry: 0.69921875\n",
      "============Target Domain Inference============\n",
      "Class Accuracy: 0.199, Domain Accuracry: 0.783\n",
      "Batch 0004 / 0008\n",
      "=================\n",
      "============Source Domain Inference============\n",
      "Class Accuracy: 0.9365234375, Domain Accuracry: 0.671875\n",
      "============Target Domain Inference============\n",
      "Class Accuracy: 0.219, Domain Accuracry: 0.783\n",
      "Batch 0005 / 0008\n",
      "=================\n",
      "============Source Domain Inference============\n",
      "Class Accuracy: 0.9306640625, Domain Accuracry: 0.689453125\n",
      "============Target Domain Inference============\n",
      "Class Accuracy: 0.208, Domain Accuracry: 0.805\n",
      "Batch 0006 / 0008\n",
      "=================\n",
      "============Source Domain Inference============\n",
      "Class Accuracy: 0.93359375, Domain Accuracry: 0.7109375\n",
      "============Target Domain Inference============\n",
      "Class Accuracy: 0.230, Domain Accuracry: 0.834\n",
      "Batch 0007 / 0008\n",
      "=================\n",
      "============Source Domain Inference============\n",
      "Class Accuracy: 0.958984375, Domain Accuracry: 0.693359375\n",
      "============Target Domain Inference============\n",
      "Class Accuracy: 0.226, Domain Accuracry: 0.852\n",
      "Batch 0008 / 0008\n",
      "=================\n",
      "============Source Domain Inference============\n",
      "Class Accuracy: 0.890625, Domain Accuracry: 0.728515625\n",
      "============Target Domain Inference============\n",
      "Class Accuracy: 0.240, Domain Accuracry: 0.858\n",
      "+++++++++++++++Final Source Accuracy+++++++++++++++\n",
      "Class Accurary 0.927, Domain Accuracy: 0.696\n",
      "+++++++++++++++Final Target Accuracy+++++++++++++++\n",
      "Class Accurary 0.216, Domain Accuracy: 0.814\n"
     ]
    }
   ],
   "source": [
    "\n",
    "test_source_iter = iter(test_dl_source)\n",
    "test_target_iter = iter(test_dl_target)\n",
    "\n",
    "s_class_labelled_correctly = 0\n",
    "s_domain_labelled_correctly = 0\n",
    "t_class_labelled_correctly = 0\n",
    "t_domain_labelled_correctly = 0\n",
    "model.eval()\n",
    "# Evaluate training\n",
    "for batch_idx in range(max_batches1):\n",
    "    print(f'Batch {batch_idx+1:04d} / {max_batches1:04d}', end='\\n=================\\n')\n",
    "    \n",
    "    # source domain\n",
    "    X_s, y_s = next(test_source_iter)\n",
    "    X_s, y_s = X_s.cuda(), y_s.cuda()\n",
    "    y_s_domain = torch.zeros(batch_size1, dtype=torch.long) # generate source domain labels   \n",
    "    y_s_domain = y_s_domain.cuda()\n",
    "    \n",
    "    # Inference Source Domain\n",
    "    Y_s_pred, Y_s_domain_pred = model(X_s)\n",
    "    correct_class_pred = float((y_s == torch.argmax(Y_s_pred, dim=1)).sum().item())\n",
    "    correct_domain_pred = float((y_s_domain == torch.argmin(Y_s_domain_pred, dim=1)).sum().item())\n",
    "    print(\"============Source Domain Inference============\")\n",
    "    print(f'Class Accuracy: {correct_class_pred/batch_size1}, Domain Accuracry: {correct_domain_pred/batch_size1}')\n",
    "    s_class_labelled_correctly += correct_class_pred\n",
    "    s_domain_labelled_correctly += correct_domain_pred\n",
    "    correct_class_pred = 0\n",
    "    correct_domain_pred = 0\n",
    "    \n",
    "    # Target domain\n",
    "    X_t, y_t = next(test_target_iter) # ignore target domain class labels!\n",
    "    X_t, y_t = X_t.cuda(), y_t.cuda()\n",
    "    y_t_domain = torch.ones(batch_size1, dtype=torch.long) # generate target domain labels\n",
    "    y_t_domain = y_t_domain.cuda()\n",
    "    \n",
    "    # Inference Target Domain\n",
    "    Y_t_pred, Y_t_domain_pred = model(X_t)\n",
    "    correct_class_pred = float((y_t == torch.argmax(Y_t_pred, dim=1)).sum().item())\n",
    "    correct_domain_pred = float((y_t_domain == torch.argmin(Y_t_domain_pred, dim=1)).sum().item())\n",
    "    print(\"============Target Domain Inference============\")\n",
    "    print(f'Class Accuracy: {correct_class_pred/batch_size1:.3f}, Domain Accuracry: {correct_domain_pred/batch_size1:.3f}')\n",
    "    t_class_labelled_correctly += correct_class_pred\n",
    "    t_domain_labelled_correctly += correct_domain_pred\n",
    "    correct_class_pred = 0\n",
    "    correct_domain_pred = 0\n",
    "    \n",
    "print(f'+++++++++++++++Final Source Accuracy+++++++++++++++')\n",
    "print(f'Class Accurary {s_class_labelled_correctly/num_samples:.3f}, Domain Accuracy: {s_domain_labelled_correctly/num_samples:.3f}')\n",
    "print(f'+++++++++++++++Final Target Accuracy+++++++++++++++')\n",
    "print(f'Class Accurary {t_class_labelled_correctly/num_samples:.3f}, Domain Accuracy: {t_domain_labelled_correctly/num_samples:.3f}')\n",
    "     "
   ]
  },
  {
   "cell_type": "code",
   "execution_count": 242,
   "id": "3490d7e6",
   "metadata": {
    "collapsed": true
   },
   "outputs": [
    {
     "data": {
      "text/plain": [
       "Dataset MNIST\n",
       "    Number of datapoints: 10000\n",
       "    Root location: ./data\n",
       "    Split: Test\n",
       "    StandardTransform\n",
       "Transform: Compose(\n",
       "               Resize(size=28, interpolation=bilinear, max_size=None, antialias=None)\n",
       "               ToTensor()\n",
       "               Normalize(mean=(0.1307,), std=(0.3081,))\n",
       "           )"
      ]
     },
     "execution_count": 242,
     "metadata": {},
     "output_type": "execute_result"
    }
   ],
   "source": [
    "\n"
   ]
  },
  {
   "cell_type": "code",
   "execution_count": 156,
   "id": "63d9a457",
   "metadata": {},
   "outputs": [
    {
     "name": "stdout",
     "output_type": "stream",
     "text": [
      "4\n",
      "torch.Size([4, 3, 3, 3])\n"
     ]
    }
   ],
   "source": [
    "x = torch.rand(4,1,3,3)\n",
    "print(x.shape)\n",
    "y = torch.rand(4,3,3,3)\n",
    "print(y.shape)"
   ]
  },
  {
   "cell_type": "code",
   "execution_count": 155,
   "id": "a577af3b",
   "metadata": {},
   "outputs": [
    {
     "name": "stdout",
     "output_type": "stream",
     "text": [
      "torch.Size([4, 3, 3, 3])\n",
      "torch.Size([4, 3, 3, 3])\n"
     ]
    }
   ],
   "source": [
    "x3 = x.expand(x.data.shape[0], 3, 3, 3)\n",
    "print(x3.shape)\n",
    "y3 = y.expand(y.data.shape[0], 3, 3, 3)\n",
    "print(y3.shape)\n",
    "#y.data.shape"
   ]
  },
  {
   "cell_type": "code",
   "execution_count": 149,
   "id": "260cd3b3",
   "metadata": {},
   "outputs": [
    {
     "data": {
      "text/plain": [
       "torch.Size([4, 3, 28, 28])"
      ]
     },
     "execution_count": 149,
     "metadata": {},
     "output_type": "execute_result"
    }
   ],
   "source": [
    "next(iter(dl_target))[0].shape"
   ]
  },
  {
   "cell_type": "code",
   "execution_count": 159,
   "id": "bb36c215",
   "metadata": {},
   "outputs": [
    {
     "name": "stdout",
     "output_type": "stream",
     "text": [
      "tensor([[0.4650, 0.3285],\n",
      "        [0.2892, 0.7568],\n",
      "        [0.1109, 0.1639],\n",
      "        [0.7242, 0.3260]])\n"
     ]
    }
   ],
   "source": [
    "x = torch.rand(4,2)\n",
    "print(x)"
   ]
  },
  {
   "cell_type": "code",
   "execution_count": 165,
   "id": "6f620504",
   "metadata": {},
   "outputs": [
    {
     "name": "stdout",
     "output_type": "stream",
     "text": [
      "tensor([[0.4650, 0.3285, 0.2892, 0.7568],\n",
      "        [0.1109, 0.1639, 0.7242, 0.3260]])\n"
     ]
    }
   ],
   "source": [
    "x2 = x.view(2, 4)\n",
    "print(x2)"
   ]
  },
  {
   "cell_type": "code",
   "execution_count": null,
   "id": "4e6be1b5",
   "metadata": {},
   "outputs": [],
   "source": []
  }
 ],
 "metadata": {
  "kernelspec": {
   "display_name": "Python 3 (ipykernel)",
   "language": "python",
   "name": "python3"
  },
  "language_info": {
   "codemirror_mode": {
    "name": "ipython",
    "version": 3
   },
   "file_extension": ".py",
   "mimetype": "text/x-python",
   "name": "python",
   "nbconvert_exporter": "python",
   "pygments_lexer": "ipython3",
   "version": "3.8.10"
  }
 },
 "nbformat": 4,
 "nbformat_minor": 5
}
